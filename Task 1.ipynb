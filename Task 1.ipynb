{
 "cells": [
  {
   "cell_type": "raw",
   "id": "d4945d03-34db-4a61-9e6e-e37cda0697bd",
   "metadata": {},
   "source": [
    "## Task 1 \n",
    "## Machine Learning - Clustering"
   ]
  },
  {
   "cell_type": "code",
   "execution_count": 1,
   "id": "75f6dbc8-9a63-4605-afd2-1e716727fc0b",
   "metadata": {},
   "outputs": [],
   "source": [
    "import pandas as pd\n",
    "import numpy as np\n",
    "from sklearn.cluster import KMeans\n",
    "from sklearn.preprocessing import StandardScaler\n",
    "import matplotlib.pyplot as plt"
   ]
  },
  {
   "cell_type": "code",
   "execution_count": 2,
   "id": "639c14d5-0d93-4925-b959-317d157ace6f",
   "metadata": {},
   "outputs": [],
   "source": [
    "df = pd.read_excel('train.xlsx')"
   ]
  },
  {
   "cell_type": "code",
   "execution_count": 3,
   "id": "6c96db63-c654-4983-ab8f-98c5f7b5c52c",
   "metadata": {},
   "outputs": [
    {
     "data": {
      "text/html": [
       "<div>\n",
       "<style scoped>\n",
       "    .dataframe tbody tr th:only-of-type {\n",
       "        vertical-align: middle;\n",
       "    }\n",
       "\n",
       "    .dataframe tbody tr th {\n",
       "        vertical-align: top;\n",
       "    }\n",
       "\n",
       "    .dataframe thead th {\n",
       "        text-align: right;\n",
       "    }\n",
       "</style>\n",
       "<table border=\"1\" class=\"dataframe\">\n",
       "  <thead>\n",
       "    <tr style=\"text-align: right;\">\n",
       "      <th></th>\n",
       "      <th>T1</th>\n",
       "      <th>T2</th>\n",
       "      <th>T3</th>\n",
       "      <th>T4</th>\n",
       "      <th>T5</th>\n",
       "      <th>T6</th>\n",
       "      <th>T7</th>\n",
       "      <th>T8</th>\n",
       "      <th>T9</th>\n",
       "      <th>T10</th>\n",
       "      <th>T11</th>\n",
       "      <th>T12</th>\n",
       "      <th>T13</th>\n",
       "      <th>T14</th>\n",
       "      <th>T15</th>\n",
       "      <th>T16</th>\n",
       "      <th>T17</th>\n",
       "      <th>T18</th>\n",
       "      <th>target</th>\n",
       "    </tr>\n",
       "  </thead>\n",
       "  <tbody>\n",
       "    <tr>\n",
       "      <th>0</th>\n",
       "      <td>-70</td>\n",
       "      <td>-61</td>\n",
       "      <td>-66</td>\n",
       "      <td>-53</td>\n",
       "      <td>-51</td>\n",
       "      <td>-63</td>\n",
       "      <td>-82</td>\n",
       "      <td>-57</td>\n",
       "      <td>-76</td>\n",
       "      <td>-78</td>\n",
       "      <td>-66</td>\n",
       "      <td>-66</td>\n",
       "      <td>-61</td>\n",
       "      <td>-59</td>\n",
       "      <td>-73</td>\n",
       "      <td>-75</td>\n",
       "      <td>-63</td>\n",
       "      <td>-77</td>\n",
       "      <td>B37</td>\n",
       "    </tr>\n",
       "    <tr>\n",
       "      <th>1</th>\n",
       "      <td>-77</td>\n",
       "      <td>-74</td>\n",
       "      <td>-71</td>\n",
       "      <td>-76</td>\n",
       "      <td>-65</td>\n",
       "      <td>-63</td>\n",
       "      <td>-66</td>\n",
       "      <td>-52</td>\n",
       "      <td>-55</td>\n",
       "      <td>-75</td>\n",
       "      <td>-72</td>\n",
       "      <td>-75</td>\n",
       "      <td>-74</td>\n",
       "      <td>-61</td>\n",
       "      <td>-64</td>\n",
       "      <td>-63</td>\n",
       "      <td>-53</td>\n",
       "      <td>-63</td>\n",
       "      <td>B61</td>\n",
       "    </tr>\n",
       "    <tr>\n",
       "      <th>2</th>\n",
       "      <td>-53</td>\n",
       "      <td>-38</td>\n",
       "      <td>-55</td>\n",
       "      <td>-66</td>\n",
       "      <td>-62</td>\n",
       "      <td>-62</td>\n",
       "      <td>-65</td>\n",
       "      <td>-70</td>\n",
       "      <td>-62</td>\n",
       "      <td>-52</td>\n",
       "      <td>-56</td>\n",
       "      <td>-53</td>\n",
       "      <td>-66</td>\n",
       "      <td>-68</td>\n",
       "      <td>-72</td>\n",
       "      <td>-60</td>\n",
       "      <td>-68</td>\n",
       "      <td>-77</td>\n",
       "      <td>A19</td>\n",
       "    </tr>\n",
       "    <tr>\n",
       "      <th>3</th>\n",
       "      <td>-72</td>\n",
       "      <td>-62</td>\n",
       "      <td>-59</td>\n",
       "      <td>-65</td>\n",
       "      <td>-65</td>\n",
       "      <td>-65</td>\n",
       "      <td>-78</td>\n",
       "      <td>-82</td>\n",
       "      <td>-83</td>\n",
       "      <td>-59</td>\n",
       "      <td>-84</td>\n",
       "      <td>-60</td>\n",
       "      <td>-64</td>\n",
       "      <td>-83</td>\n",
       "      <td>-69</td>\n",
       "      <td>-72</td>\n",
       "      <td>-95</td>\n",
       "      <td>-73</td>\n",
       "      <td>A22</td>\n",
       "    </tr>\n",
       "    <tr>\n",
       "      <th>4</th>\n",
       "      <td>-67</td>\n",
       "      <td>-69</td>\n",
       "      <td>-65</td>\n",
       "      <td>-63</td>\n",
       "      <td>-59</td>\n",
       "      <td>-53</td>\n",
       "      <td>-70</td>\n",
       "      <td>-72</td>\n",
       "      <td>-71</td>\n",
       "      <td>-60</td>\n",
       "      <td>-61</td>\n",
       "      <td>-57</td>\n",
       "      <td>-54</td>\n",
       "      <td>-76</td>\n",
       "      <td>-61</td>\n",
       "      <td>-66</td>\n",
       "      <td>-71</td>\n",
       "      <td>-80</td>\n",
       "      <td>A33</td>\n",
       "    </tr>\n",
       "  </tbody>\n",
       "</table>\n",
       "</div>"
      ],
      "text/plain": [
       "   T1  T2  T3  T4  T5  T6  T7  T8  T9  T10  T11  T12  T13  T14  T15  T16  T17  \\\n",
       "0 -70 -61 -66 -53 -51 -63 -82 -57 -76  -78  -66  -66  -61  -59  -73  -75  -63   \n",
       "1 -77 -74 -71 -76 -65 -63 -66 -52 -55  -75  -72  -75  -74  -61  -64  -63  -53   \n",
       "2 -53 -38 -55 -66 -62 -62 -65 -70 -62  -52  -56  -53  -66  -68  -72  -60  -68   \n",
       "3 -72 -62 -59 -65 -65 -65 -78 -82 -83  -59  -84  -60  -64  -83  -69  -72  -95   \n",
       "4 -67 -69 -65 -63 -59 -53 -70 -72 -71  -60  -61  -57  -54  -76  -61  -66  -71   \n",
       "\n",
       "   T18 target  \n",
       "0  -77    B37  \n",
       "1  -63    B61  \n",
       "2  -77    A19  \n",
       "3  -73    A22  \n",
       "4  -80    A33  "
      ]
     },
     "execution_count": 3,
     "metadata": {},
     "output_type": "execute_result"
    }
   ],
   "source": [
    "df.head()"
   ]
  },
  {
   "cell_type": "code",
   "execution_count": 4,
   "id": "06bc5644-b3bc-4c47-8cb0-993582500c03",
   "metadata": {},
   "outputs": [
    {
     "name": "stdout",
     "output_type": "stream",
     "text": [
      "<class 'pandas.core.frame.DataFrame'>\n",
      "RangeIndex: 36752 entries, 0 to 36751\n",
      "Data columns (total 19 columns):\n",
      " #   Column  Non-Null Count  Dtype \n",
      "---  ------  --------------  ----- \n",
      " 0   T1      36752 non-null  int64 \n",
      " 1   T2      36752 non-null  int64 \n",
      " 2   T3      36752 non-null  int64 \n",
      " 3   T4      36752 non-null  int64 \n",
      " 4   T5      36752 non-null  int64 \n",
      " 5   T6      36752 non-null  int64 \n",
      " 6   T7      36752 non-null  int64 \n",
      " 7   T8      36752 non-null  int64 \n",
      " 8   T9      36752 non-null  int64 \n",
      " 9   T10     36752 non-null  int64 \n",
      " 10  T11     36752 non-null  int64 \n",
      " 11  T12     36752 non-null  int64 \n",
      " 12  T13     36752 non-null  int64 \n",
      " 13  T14     36752 non-null  int64 \n",
      " 14  T15     36752 non-null  int64 \n",
      " 15  T16     36752 non-null  int64 \n",
      " 16  T17     36752 non-null  int64 \n",
      " 17  T18     36752 non-null  int64 \n",
      " 18  target  36752 non-null  object\n",
      "dtypes: int64(18), object(1)\n",
      "memory usage: 5.3+ MB\n"
     ]
    }
   ],
   "source": [
    "df.info()"
   ]
  },
  {
   "cell_type": "code",
   "execution_count": 5,
   "id": "211fdf89-1014-491c-8154-9540610b65e8",
   "metadata": {},
   "outputs": [],
   "source": [
    "features= df[['T1', 'T2', 'T3','T4','T5','T6','T7','T8','T9','T10','T11','T12','T13','T14','T15','T16','T17','T18']]\n",
    "target = df['target']"
   ]
  },
  {
   "cell_type": "code",
   "execution_count": 6,
   "id": "f00aa7d8-1951-458e-b600-3919f943ffbd",
   "metadata": {},
   "outputs": [
    {
     "data": {
      "text/html": [
       "<div>\n",
       "<style scoped>\n",
       "    .dataframe tbody tr th:only-of-type {\n",
       "        vertical-align: middle;\n",
       "    }\n",
       "\n",
       "    .dataframe tbody tr th {\n",
       "        vertical-align: top;\n",
       "    }\n",
       "\n",
       "    .dataframe thead th {\n",
       "        text-align: right;\n",
       "    }\n",
       "</style>\n",
       "<table border=\"1\" class=\"dataframe\">\n",
       "  <thead>\n",
       "    <tr style=\"text-align: right;\">\n",
       "      <th></th>\n",
       "      <th>T1</th>\n",
       "      <th>T2</th>\n",
       "      <th>T3</th>\n",
       "      <th>T4</th>\n",
       "      <th>T5</th>\n",
       "      <th>T6</th>\n",
       "      <th>T7</th>\n",
       "      <th>T8</th>\n",
       "      <th>T9</th>\n",
       "      <th>T10</th>\n",
       "      <th>T11</th>\n",
       "      <th>T12</th>\n",
       "      <th>T13</th>\n",
       "      <th>T14</th>\n",
       "      <th>T15</th>\n",
       "      <th>T16</th>\n",
       "      <th>T17</th>\n",
       "      <th>T18</th>\n",
       "    </tr>\n",
       "  </thead>\n",
       "  <tbody>\n",
       "    <tr>\n",
       "      <th>0</th>\n",
       "      <td>-70</td>\n",
       "      <td>-61</td>\n",
       "      <td>-66</td>\n",
       "      <td>-53</td>\n",
       "      <td>-51</td>\n",
       "      <td>-63</td>\n",
       "      <td>-82</td>\n",
       "      <td>-57</td>\n",
       "      <td>-76</td>\n",
       "      <td>-78</td>\n",
       "      <td>-66</td>\n",
       "      <td>-66</td>\n",
       "      <td>-61</td>\n",
       "      <td>-59</td>\n",
       "      <td>-73</td>\n",
       "      <td>-75</td>\n",
       "      <td>-63</td>\n",
       "      <td>-77</td>\n",
       "    </tr>\n",
       "    <tr>\n",
       "      <th>1</th>\n",
       "      <td>-77</td>\n",
       "      <td>-74</td>\n",
       "      <td>-71</td>\n",
       "      <td>-76</td>\n",
       "      <td>-65</td>\n",
       "      <td>-63</td>\n",
       "      <td>-66</td>\n",
       "      <td>-52</td>\n",
       "      <td>-55</td>\n",
       "      <td>-75</td>\n",
       "      <td>-72</td>\n",
       "      <td>-75</td>\n",
       "      <td>-74</td>\n",
       "      <td>-61</td>\n",
       "      <td>-64</td>\n",
       "      <td>-63</td>\n",
       "      <td>-53</td>\n",
       "      <td>-63</td>\n",
       "    </tr>\n",
       "    <tr>\n",
       "      <th>2</th>\n",
       "      <td>-53</td>\n",
       "      <td>-38</td>\n",
       "      <td>-55</td>\n",
       "      <td>-66</td>\n",
       "      <td>-62</td>\n",
       "      <td>-62</td>\n",
       "      <td>-65</td>\n",
       "      <td>-70</td>\n",
       "      <td>-62</td>\n",
       "      <td>-52</td>\n",
       "      <td>-56</td>\n",
       "      <td>-53</td>\n",
       "      <td>-66</td>\n",
       "      <td>-68</td>\n",
       "      <td>-72</td>\n",
       "      <td>-60</td>\n",
       "      <td>-68</td>\n",
       "      <td>-77</td>\n",
       "    </tr>\n",
       "    <tr>\n",
       "      <th>3</th>\n",
       "      <td>-72</td>\n",
       "      <td>-62</td>\n",
       "      <td>-59</td>\n",
       "      <td>-65</td>\n",
       "      <td>-65</td>\n",
       "      <td>-65</td>\n",
       "      <td>-78</td>\n",
       "      <td>-82</td>\n",
       "      <td>-83</td>\n",
       "      <td>-59</td>\n",
       "      <td>-84</td>\n",
       "      <td>-60</td>\n",
       "      <td>-64</td>\n",
       "      <td>-83</td>\n",
       "      <td>-69</td>\n",
       "      <td>-72</td>\n",
       "      <td>-95</td>\n",
       "      <td>-73</td>\n",
       "    </tr>\n",
       "    <tr>\n",
       "      <th>4</th>\n",
       "      <td>-67</td>\n",
       "      <td>-69</td>\n",
       "      <td>-65</td>\n",
       "      <td>-63</td>\n",
       "      <td>-59</td>\n",
       "      <td>-53</td>\n",
       "      <td>-70</td>\n",
       "      <td>-72</td>\n",
       "      <td>-71</td>\n",
       "      <td>-60</td>\n",
       "      <td>-61</td>\n",
       "      <td>-57</td>\n",
       "      <td>-54</td>\n",
       "      <td>-76</td>\n",
       "      <td>-61</td>\n",
       "      <td>-66</td>\n",
       "      <td>-71</td>\n",
       "      <td>-80</td>\n",
       "    </tr>\n",
       "  </tbody>\n",
       "</table>\n",
       "</div>"
      ],
      "text/plain": [
       "   T1  T2  T3  T4  T5  T6  T7  T8  T9  T10  T11  T12  T13  T14  T15  T16  T17  \\\n",
       "0 -70 -61 -66 -53 -51 -63 -82 -57 -76  -78  -66  -66  -61  -59  -73  -75  -63   \n",
       "1 -77 -74 -71 -76 -65 -63 -66 -52 -55  -75  -72  -75  -74  -61  -64  -63  -53   \n",
       "2 -53 -38 -55 -66 -62 -62 -65 -70 -62  -52  -56  -53  -66  -68  -72  -60  -68   \n",
       "3 -72 -62 -59 -65 -65 -65 -78 -82 -83  -59  -84  -60  -64  -83  -69  -72  -95   \n",
       "4 -67 -69 -65 -63 -59 -53 -70 -72 -71  -60  -61  -57  -54  -76  -61  -66  -71   \n",
       "\n",
       "   T18  \n",
       "0  -77  \n",
       "1  -63  \n",
       "2  -77  \n",
       "3  -73  \n",
       "4  -80  "
      ]
     },
     "execution_count": 6,
     "metadata": {},
     "output_type": "execute_result"
    }
   ],
   "source": [
    "features.head()"
   ]
  },
  {
   "cell_type": "code",
   "execution_count": 7,
   "id": "1c1edfa1-e17a-44a4-a7f9-102997a5a404",
   "metadata": {},
   "outputs": [
    {
     "data": {
      "text/plain": [
       "0    B37\n",
       "1    B61\n",
       "2    A19\n",
       "3    A22\n",
       "4    A33\n",
       "Name: target, dtype: object"
      ]
     },
     "execution_count": 7,
     "metadata": {},
     "output_type": "execute_result"
    }
   ],
   "source": [
    "target.head()"
   ]
  },
  {
   "cell_type": "code",
   "execution_count": 8,
   "id": "edf8561e-ebe2-4483-8da5-34160f368d17",
   "metadata": {},
   "outputs": [],
   "source": [
    "scaler = StandardScaler()\n",
    "df = scaler.fit_transform(features)\n"
   ]
  },
  {
   "cell_type": "code",
   "execution_count": 9,
   "id": "b4084c69-0753-4cbf-a576-394799c64a97",
   "metadata": {},
   "outputs": [
    {
     "name": "stderr",
     "output_type": "stream",
     "text": [
      "C:\\Users\\ADMIN\\AppData\\Local\\Programs\\Python\\Python312\\Lib\\site-packages\\sklearn\\cluster\\_kmeans.py:1416: FutureWarning: The default value of `n_init` will change from 10 to 'auto' in 1.4. Set the value of `n_init` explicitly to suppress the warning\n",
      "  super()._check_params_vs_input(X, default_n_init=10)\n",
      "C:\\Users\\ADMIN\\AppData\\Local\\Programs\\Python\\Python312\\Lib\\site-packages\\sklearn\\cluster\\_kmeans.py:1416: FutureWarning: The default value of `n_init` will change from 10 to 'auto' in 1.4. Set the value of `n_init` explicitly to suppress the warning\n",
      "  super()._check_params_vs_input(X, default_n_init=10)\n",
      "C:\\Users\\ADMIN\\AppData\\Local\\Programs\\Python\\Python312\\Lib\\site-packages\\sklearn\\cluster\\_kmeans.py:1416: FutureWarning: The default value of `n_init` will change from 10 to 'auto' in 1.4. Set the value of `n_init` explicitly to suppress the warning\n",
      "  super()._check_params_vs_input(X, default_n_init=10)\n",
      "C:\\Users\\ADMIN\\AppData\\Local\\Programs\\Python\\Python312\\Lib\\site-packages\\sklearn\\cluster\\_kmeans.py:1416: FutureWarning: The default value of `n_init` will change from 10 to 'auto' in 1.4. Set the value of `n_init` explicitly to suppress the warning\n",
      "  super()._check_params_vs_input(X, default_n_init=10)\n",
      "C:\\Users\\ADMIN\\AppData\\Local\\Programs\\Python\\Python312\\Lib\\site-packages\\sklearn\\cluster\\_kmeans.py:1416: FutureWarning: The default value of `n_init` will change from 10 to 'auto' in 1.4. Set the value of `n_init` explicitly to suppress the warning\n",
      "  super()._check_params_vs_input(X, default_n_init=10)\n",
      "C:\\Users\\ADMIN\\AppData\\Local\\Programs\\Python\\Python312\\Lib\\site-packages\\sklearn\\cluster\\_kmeans.py:1416: FutureWarning: The default value of `n_init` will change from 10 to 'auto' in 1.4. Set the value of `n_init` explicitly to suppress the warning\n",
      "  super()._check_params_vs_input(X, default_n_init=10)\n",
      "C:\\Users\\ADMIN\\AppData\\Local\\Programs\\Python\\Python312\\Lib\\site-packages\\sklearn\\cluster\\_kmeans.py:1416: FutureWarning: The default value of `n_init` will change from 10 to 'auto' in 1.4. Set the value of `n_init` explicitly to suppress the warning\n",
      "  super()._check_params_vs_input(X, default_n_init=10)\n",
      "C:\\Users\\ADMIN\\AppData\\Local\\Programs\\Python\\Python312\\Lib\\site-packages\\sklearn\\cluster\\_kmeans.py:1416: FutureWarning: The default value of `n_init` will change from 10 to 'auto' in 1.4. Set the value of `n_init` explicitly to suppress the warning\n",
      "  super()._check_params_vs_input(X, default_n_init=10)\n",
      "C:\\Users\\ADMIN\\AppData\\Local\\Programs\\Python\\Python312\\Lib\\site-packages\\sklearn\\cluster\\_kmeans.py:1416: FutureWarning: The default value of `n_init` will change from 10 to 'auto' in 1.4. Set the value of `n_init` explicitly to suppress the warning\n",
      "  super()._check_params_vs_input(X, default_n_init=10)\n",
      "C:\\Users\\ADMIN\\AppData\\Local\\Programs\\Python\\Python312\\Lib\\site-packages\\sklearn\\cluster\\_kmeans.py:1416: FutureWarning: The default value of `n_init` will change from 10 to 'auto' in 1.4. Set the value of `n_init` explicitly to suppress the warning\n",
      "  super()._check_params_vs_input(X, default_n_init=10)\n",
      "C:\\Users\\ADMIN\\AppData\\Local\\Programs\\Python\\Python312\\Lib\\site-packages\\sklearn\\cluster\\_kmeans.py:1416: FutureWarning: The default value of `n_init` will change from 10 to 'auto' in 1.4. Set the value of `n_init` explicitly to suppress the warning\n",
      "  super()._check_params_vs_input(X, default_n_init=10)\n",
      "C:\\Users\\ADMIN\\AppData\\Local\\Programs\\Python\\Python312\\Lib\\site-packages\\sklearn\\cluster\\_kmeans.py:1416: FutureWarning: The default value of `n_init` will change from 10 to 'auto' in 1.4. Set the value of `n_init` explicitly to suppress the warning\n",
      "  super()._check_params_vs_input(X, default_n_init=10)\n",
      "C:\\Users\\ADMIN\\AppData\\Local\\Programs\\Python\\Python312\\Lib\\site-packages\\sklearn\\cluster\\_kmeans.py:1416: FutureWarning: The default value of `n_init` will change from 10 to 'auto' in 1.4. Set the value of `n_init` explicitly to suppress the warning\n",
      "  super()._check_params_vs_input(X, default_n_init=10)\n",
      "C:\\Users\\ADMIN\\AppData\\Local\\Programs\\Python\\Python312\\Lib\\site-packages\\sklearn\\cluster\\_kmeans.py:1416: FutureWarning: The default value of `n_init` will change from 10 to 'auto' in 1.4. Set the value of `n_init` explicitly to suppress the warning\n",
      "  super()._check_params_vs_input(X, default_n_init=10)\n"
     ]
    },
    {
     "data": {
      "image/png": "[encoded data removed]",
      "text/plain": [
       "<Figure size 640x480 with 1 Axes>"
      ]
     },
     "metadata": {},
     "output_type": "display_data"
    }
   ],
   "source": [
    "from sklearn.cluster import KMeans\n",
    "wcss=[]\n",
    "for i in range(1,15):\n",
    "    kmeans=KMeans(n_clusters=i,random_state=42)\n",
    "    kmeans.fit(df)\n",
    "    wcss.append(kmeans.inertia_)\n",
    "plt.plot(range(1,15),wcss)\n",
    "plt.title('Elbow method')\n",
    "plt.xlabel('No. of clusters')\n",
    "plt.ylabel('wcss')\n",
    "plt.show()"
   ]
  },
  {
   "cell_type": "code",
   "execution_count": 10,
   "id": "fb4e908e-9ecc-4335-bc1d-d5906648c664",
   "metadata": {},
   "outputs": [
    {
     "name": "stderr",
     "output_type": "stream",
     "text": [
      "C:\\Users\\ADMIN\\AppData\\Local\\Programs\\Python\\Python312\\Lib\\site-packages\\sklearn\\cluster\\_kmeans.py:1416: FutureWarning: The default value of `n_init` will change from 10 to 'auto' in 1.4. Set the value of `n_init` explicitly to suppress the warning\n",
      "  super()._check_params_vs_input(X, default_n_init=10)\n"
     ]
    },
    {
     "data": {
      "text/html": [
       "<style>#sk-container-id-1 {color: black;}#sk-container-id-1 pre{padding: 0;}#sk-container-id-1 div.sk-toggleable {background-color: white;}#sk-container-id-1 label.sk-toggleable__label {cursor: pointer;display: block;width: 100%;margin-bottom: 0;padding: 0.3em;box-sizing: border-box;text-align: center;}#sk-container-id-1 label.sk-toggleable__label-arrow:before {content: \"▸\";float: left;margin-right: 0.25em;color: #696969;}#sk-container-id-1 label.sk-toggleable__label-arrow:hover:before {color: black;}#sk-container-id-1 div.sk-estimator:hover label.sk-toggleable__label-arrow:before {color: black;}#sk-container-id-1 div.sk-toggleable__content {max-height: 0;max-width: 0;overflow: hidden;text-align: left;background-color: #f0f8ff;}#sk-container-id-1 div.sk-toggleable__content pre {margin: 0.2em;color: black;border-radius: 0.25em;background-color: #f0f8ff;}#sk-container-id-1 input.sk-toggleable__control:checked~div.sk-toggleable__content {max-height: 200px;max-width: 100%;overflow: auto;}#sk-container-id-1 input.sk-toggleable__control:checked~label.sk-toggleable__label-arrow:before {content: \"▾\";}#sk-container-id-1 div.sk-estimator input.sk-toggleable__control:checked~label.sk-toggleable__label {background-color: #d4ebff;}#sk-container-id-1 div.sk-label input.sk-toggleable__control:checked~label.sk-toggleable__label {background-color: #d4ebff;}#sk-container-id-1 input.sk-hidden--visually {border: 0;clip: rect(1px 1px 1px 1px);clip: rect(1px, 1px, 1px, 1px);height: 1px;margin: -1px;overflow: hidden;padding: 0;position: absolute;width: 1px;}#sk-container-id-1 div.sk-estimator {font-family: monospace;background-color: #f0f8ff;border: 1px dotted black;border-radius: 0.25em;box-sizing: border-box;margin-bottom: 0.5em;}#sk-container-id-1 div.sk-estimator:hover {background-color: #d4ebff;}#sk-container-id-1 div.sk-parallel-item::after {content: \"\";width: 100%;border-bottom: 1px solid gray;flex-grow: 1;}#sk-container-id-1 div.sk-label:hover label.sk-toggleable__label {background-color: #d4ebff;}#sk-container-id-1 div.sk-serial::before {content: \"\";position: absolute;border-left: 1px solid gray;box-sizing: border-box;top: 0;bottom: 0;left: 50%;z-index: 0;}#sk-container-id-1 div.sk-serial {display: flex;flex-direction: column;align-items: center;background-color: white;padding-right: 0.2em;padding-left: 0.2em;position: relative;}#sk-container-id-1 div.sk-item {position: relative;z-index: 1;}#sk-container-id-1 div.sk-parallel {display: flex;align-items: stretch;justify-content: center;background-color: white;position: relative;}#sk-container-id-1 div.sk-item::before, #sk-container-id-1 div.sk-parallel-item::before {content: \"\";position: absolute;border-left: 1px solid gray;box-sizing: border-box;top: 0;bottom: 0;left: 50%;z-index: -1;}#sk-container-id-1 div.sk-parallel-item {display: flex;flex-direction: column;z-index: 1;position: relative;background-color: white;}#sk-container-id-1 div.sk-parallel-item:first-child::after {align-self: flex-end;width: 50%;}#sk-container-id-1 div.sk-parallel-item:last-child::after {align-self: flex-start;width: 50%;}#sk-container-id-1 div.sk-parallel-item:only-child::after {width: 0;}#sk-container-id-1 div.sk-dashed-wrapped {border: 1px dashed gray;margin: 0 0.4em 0.5em 0.4em;box-sizing: border-box;padding-bottom: 0.4em;background-color: white;}#sk-container-id-1 div.sk-label label {font-family: monospace;font-weight: bold;display: inline-block;line-height: 1.2em;}#sk-container-id-1 div.sk-label-container {text-align: center;}#sk-container-id-1 div.sk-container {/* jupyter's `normalize.less` sets `[hidden] { display: none; }` but bootstrap.min.css set `[hidden] { display: none !important; }` so we also need the `!important` here to be able to override the default hidden behavior on the sphinx rendered scikit-learn.org. See: https://github.com/scikit-learn/scikit-learn/issues/21755 */display: inline-block !important;position: relative;}#sk-container-id-1 div.sk-text-repr-fallback {display: none;}</style><div id=\"sk-container-id-1\" class=\"sk-top-container\"><div class=\"sk-text-repr-fallback\"><pre>KMeans(n_clusters=4, random_state=42)</pre><b>In a Jupyter environment, please rerun this cell to show the HTML representation or trust the notebook. <br />On GitHub, the HTML representation is unable to render, please try loading this page with nbviewer.org.</b></div><div class=\"sk-container\" hidden><div class=\"sk-item\"><div class=\"sk-estimator sk-toggleable\"><input class=\"sk-toggleable__control sk-hidden--visually\" id=\"sk-estimator-id-1\" type=\"checkbox\" checked><label for=\"sk-estimator-id-1\" class=\"sk-toggleable__label sk-toggleable__label-arrow\">KMeans</label><div class=\"sk-toggleable__content\"><pre>KMeans(n_clusters=4, random_state=42)</pre></div></div></div></div></div>"
      ],
      "text/plain": [
       "KMeans(n_clusters=4, random_state=42)"
      ]
     },
     "execution_count": 10,
     "metadata": {},
     "output_type": "execute_result"
    }
   ],
   "source": [
    "k = 4\n",
    "kmeans = KMeans(n_clusters=k, random_state=42)\n",
    "kmeans.fit(df)\n"
   ]
  },
  {
   "cell_type": "code",
   "execution_count": 11,
   "id": "bb04bcee-971b-48f7-948b-f65c3a77e1ab",
   "metadata": {},
   "outputs": [],
   "source": [
    "centroids = kmeans.cluster_centers_"
   ]
  },
  {
   "cell_type": "code",
   "execution_count": 12,
   "id": "80e96c29-51fc-46c4-b73f-c3420ddf09a4",
   "metadata": {},
   "outputs": [
    {
     "data": {
      "text/plain": [
       "array([1, 0, 1, ..., 3, 3, 2])"
      ]
     },
     "execution_count": 12,
     "metadata": {},
     "output_type": "execute_result"
    }
   ],
   "source": [
    "clusters = kmeans.predict(df)\n",
    "\n",
    "clusters"
   ]
  },
  {
   "cell_type": "code",
   "execution_count": 13,
   "id": "c41be98c-fea5-4506-a59c-6f11974578fc",
   "metadata": {},
   "outputs": [],
   "source": [
    "def predict_cluster(new_data_point, scaler, kmeans):\n",
    "    new_data_point = scaler.transform([new_data_point])\n",
    "    \n",
    "    cluster = kmeans.predict(new_data_point)[0]\n",
    "    \n",
    "    centroid = centroids[cluster]\n",
    "    \n",
    "    distance = np.linalg.norm(new_data_point - centroid)\n",
    "    \n",
    "    return cluster, distance"
   ]
  },
  {
   "cell_type": "markdown",
   "id": "b4463234-45ff-456d-8911-359df61a6ba0",
   "metadata": {},
   "source": [
    "Prediction"
   ]
  },
  {
   "cell_type": "code",
   "execution_count": 14,
   "id": "57db6a70-ea3c-4b44-a5c5-78208f33573c",
   "metadata": {},
   "outputs": [
    {
     "name": "stdout",
     "output_type": "stream",
     "text": [
      "The new data point belongs to cluster 1 with a distance of 3.2321012970254106 from the centroid.\n"
     ]
    },
    {
     "name": "stderr",
     "output_type": "stream",
     "text": [
      "C:\\Users\\ADMIN\\AppData\\Local\\Programs\\Python\\Python312\\Lib\\site-packages\\sklearn\\base.py:465: UserWarning: X does not have valid feature names, but StandardScaler was fitted with feature names\n",
      "  warnings.warn(\n"
     ]
    }
   ],
   "source": [
    "new_data_point = [-67,-50,-65,-63,-59,-53,-70,-72,-61,-40,-61,-57,-54,-76,-61,-66,-71,-80]\n",
    "\n",
    "cluster, distance = predict_cluster(new_data_point, scaler, kmeans)\n",
    "print(f\"The new data point belongs to cluster {cluster} with a distance of {distance} from the centroid.\")\n"
   ]
  },
  {
   "cell_type": "code",
   "execution_count": null,
   "id": "8ddca9c6-7faa-421e-99f8-308ef74fd677",
   "metadata": {},
   "outputs": [],
   "source": []
  },
  {
   "cell_type": "code",
   "execution_count": null,
   "id": "19dc61f3-5c13-4320-8091-5389095e6872",
   "metadata": {},
   "outputs": [],
   "source": []
  },
  {
   "cell_type": "code",
   "execution_count": null,
   "id": "85b56577-e47d-458a-a705-e154a8a96903",
   "metadata": {},
   "outputs": [],
   "source": []
  },
  {
   "cell_type": "code",
   "execution_count": null,
   "id": "002c5552-08d3-4cef-8f82-6c8124b59ad7",
   "metadata": {},
   "outputs": [],
   "source": []
  },
  {
   "cell_type": "code",
   "execution_count": null,
   "id": "c0e7f892-db48-4231-8b1a-ad50e0aa040e",
   "metadata": {},
   "outputs": [],
   "source": []
  },
  {
   "cell_type": "code",
   "execution_count": null,
   "id": "25cdeaa8-f67f-4827-bdbf-1a9d16431600",
   "metadata": {},
   "outputs": [],
   "source": []
  },
  {
   "cell_type": "code",
   "execution_count": null,
   "id": "73dfa3c6-096e-4784-8243-52989a2e95d3",
   "metadata": {},
   "outputs": [],
   "source": []
  },
  {
   "cell_type": "code",
   "execution_count": null,
   "id": "ac27b942-9b02-4199-b752-a21e433b61ad",
   "metadata": {},
   "outputs": [],
   "source": []
  },
  {
   "cell_type": "code",
   "execution_count": null,
   "id": "d64d8993-07e9-4e60-aeeb-d84d97e99b76",
   "metadata": {},
   "outputs": [],
   "source": []
  },
  {
   "cell_type": "code",
   "execution_count": null,
   "id": "846c9e27-6931-40c7-930f-6b02c78be091",
   "metadata": {},
   "outputs": [],
   "source": []
  }
 ],
 "metadata": {
  "kernelspec": {
   "display_name": "Python 3 (ipykernel)",
   "language": "python",
   "name": "python3"
  },
  "language_info": {
   "codemirror_mode": {
    "name": "ipython",
    "version": 3
   },
   "file_extension": ".py",
   "mimetype": "text/x-python",
   "name": "python",
   "nbconvert_exporter": "python",
   "pygments_lexer": "ipython3",
   "version": "3.12.2"
  }
 },
 "nbformat": 4,
 "nbformat_minor": 5
}
